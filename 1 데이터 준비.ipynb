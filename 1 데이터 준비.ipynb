{
 "cells": [
  {
   "cell_type": "markdown",
   "metadata": {},
   "source": [
    "### 이벤트 데이터를 준비하는 코드입니다.\n",
    "각 링크에서 파일을 다운 받아 data 파일 안에 넣어주세요.\n",
    "\n",
    "1. https://figshare.com/articles/dataset/Mapping_of_tag_identifiers_to_tag_names/11743818?backTo=/collections/Soccer_match_event_dataset/4415000\n",
    "2. https://figshare.com/articles/dataset/Matches/7770422?backTo=/collections/Soccer_match_event_dataset/4415000\n",
    "3. https://figshare.com/articles/dataset/Events/7770599?backTo=/collections/Soccer_match_event_dataset/4415000\n",
    "4. https://figshare.com/articles/dataset/Competitions/7765316?backTo=/collections/Soccer_match_event_dataset/4415000\n",
    "5. https://figshare.com/articles/dataset/Players/7765196?backTo=/collections/Soccer_match_event_dataset/4415000\n",
    "6. https://figshare.com/articles/dataset/Teams/7765310?backTo=/collections/Soccer_match_event_dataset/4415000"
   ]
  },
  {
   "cell_type": "markdown",
   "metadata": {},
   "source": [
    "### 아래 코드를 실행시키면 자동으로 경기별 데이터 파일이 생성됩니다.\n",
    "    * refined_events 파일이 생성됩니다."
   ]
  },
  {
   "cell_type": "code",
   "execution_count": null,
   "metadata": {},
   "outputs": [],
   "source": [
    "from src.data_utils import refine_and_save_events\n",
    "\n",
    "refine_and_save_events(dataset_name='England')\n",
    "refine_and_save_events(dataset_name='Spain')\n",
    "refine_and_save_events(dataset_name='Italy')\n",
    "refine_and_save_events(dataset_name='Germany')\n",
    "refine_and_save_events(dataset_name='France')\n",
    "refine_and_save_events(dataset_name='European_Championship')\n",
    "refine_and_save_events(dataset_name='World_Cup')"
   ]
  },
  {
   "cell_type": "code",
   "execution_count": null,
   "metadata": {},
   "outputs": [],
   "source": [
    "import pandas as pd\n",
    "\n",
    "match_events = pd.read_pickle(f'data/refined_events/World_Cup/2057988.pkl')\n",
    "match_events"
   ]
  }
 ],
 "metadata": {
  "language_info": {
   "name": "python"
  }
 },
 "nbformat": 4,
 "nbformat_minor": 2
}
