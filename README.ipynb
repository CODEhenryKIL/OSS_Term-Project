{
 "cells": [
  {
   "cell_type": "markdown",
   "metadata": {},
   "source": [
    "# 나만의 축구 경기 분석 솔루션 - 방구석FC⚽️"
   ]
  },
  {
   "cell_type": "markdown",
   "metadata": {},
   "source": [
    "## Project Overview⚽️\n",
    "----"
   ]
  },
  {
   "cell_type": "markdown",
   "metadata": {},
   "source": [
    "#### 개발환경\n",
    "conda 가상환경 생성\n",
    "* python3.8\n",
    "* requirements.txt 패키지 설치\n",
    "<br>\n",
    "<br>\n"
   ]
  },
  {
   "cell_type": "markdown",
   "metadata": {},
   "source": [
    "#### 사용 DATA\n",
    "wyscout soccer match event dataset 사용\n",
    "* Version 5 사용\n",
    "* https://figshare.com/collections/Soccer_match_event_dataset/4415000/5\n",
    "<br>\n",
    "<br>\n",
    "<br>"
   ]
  },
  {
   "cell_type": "markdown",
   "metadata": {},
   "source": [
    "#### 개발목적\n",
    "방구석FC 프로젝트는 축구 경기 이벤트 데이터를 가공하여 경기에서 발생하는 이벤트를 분석할 수 있는 시각화 자료를 제공하는 것을 목표로 합니다.\n",
    "1. 패스 경로 시각화\n",
    "2. 공격이벤트 스퀀스 시각화\n",
    "3. 선수별, 경기별 히트맵 시각화\n",
    "4. 대회별, 선수별 xG 시각화\n",
    "\n",
    "<br>\n",
    "\n",
    "시각화된 자료를 바탕으로 각 경기별 선수별 행동 패턴, 팀의 전략, 슛의 기대득점 포퍼먼스 등에 대한 통찰력을 제공합니다.\n",
    "\n",
    "해당 data는 wyscout soccer에서 제공하는 7개의 리그(대회)의 데이터를 활용하였으며,\n",
    "class101 파이형 인간님의 코드를 참조하였습니다.\n",
    "\n",
    "Logistic Regression 머신러닝 모델을 사용하여 로지스틱 회귀 분석을 수행하였으며,\n",
    "방구석에서 축구를 즐기는 많은 이들에게 조금 더 전문적인 시점에서의 축구를 감상할 수 있도록 돕습니다.\n",
    "\n",
    "<br>\n"
   ]
  },
  {
   "cell_type": "markdown",
   "metadata": {},
   "source": [
    "![Example Image](img/ex.gif)"
   ]
  },
  {
   "cell_type": "markdown",
   "metadata": {},
   "source": [
    "<br>"
   ]
  },
  {
   "cell_type": "markdown",
   "metadata": {},
   "source": [
    "### 개발언어\n",
    "* python\n",
    "<br>\n",
    "<br>\n",
    "\n",
    "### 사용 라이브러리\n",
    "1. numpy\n",
    "2. pandas\n",
    "3. matplotlib\n",
    "4. plotly\n",
    "\n",
    "<br>\n",
    "<br>\n",
    "\n",
    "### 솔루션 구성\n",
    "1. data: 시각화에 필요한 데이터들이 들어있습니다.\n",
    "  * 필요의 경우 직접 데이터 파일을 해당 폴더에 넣어주세요.\n",
    "2. img: 시각화한 파일들이 저장됩니다.\n",
    "3. scr: 솔루션 실행에 필요한 코드들이 들어있습니다.\n",
    "4. xgml.py: xG 머신러닝 코드입니다.\n",
    "5. requirements.txt 솔루션 실행에 필요한 패키지 목록입니다.\n",
    "6. output.png: README.md를 위한 파일입니다.\n",
    "7. 1~5.ipynb: 솔루션을 실질적으로 동작시키는 파일입니다.\n",
    "  * 각 파일별로 순서에 맞게 실행시키셔야 합니다.\n",
    "\n",
    "<br>\n",
    "<br>"
   ]
  },
  {
   "cell_type": "markdown",
   "metadata": {},
   "source": [
    "## 실행 방법 및 코드&결과 예시\n",
    "----"
   ]
  },
  {
   "cell_type": "markdown",
   "metadata": {},
   "source": [
    "#### 1. 데이터 준비 \n",
    "#### 데이터를 준비함으로써, 방구석FC 솔루션 이용을 준비합니다.\n",
    "\n",
    "* <span style=\"color:skyblue\">**\"1 데이터 준비ipynb\"**</span> 파일을 통해 refinde_events파일을 준비해주세요.\n",
    "    * 데이터가 크기가 너무 커 github에는 월드컵 데이터만 업로드 하였습니다. 1 데이터 준비 파일을 통해 다른 대회 데이터를 다운 받을 수 있습니다.\n",
    "    * <small><small> data_utils.py Reference </small></small>\n",
    "\n"
   ]
  },
  {
   "cell_type": "markdown",
   "metadata": {},
   "source": [
    "<br>\n",
    "\n",
    "#### 2. 원하는 경기 찾기\n",
    "#### 응원하는 팁의 경기 정보를 분석하기 위한 준비 과정입니다.\n",
    "* <span style=\"color:skyblue\">**\"2 분석 희망 데이터 찾기.ipynb\"**</span> 파일을 통해 분석을 희망하는 경기의 match_id를 준비하세요.\n",
    "    * 각 대회별 참여 팀의 정보를 확인한 뒤, 분석을 희망하는 팀의 경기를 찾아 match_id를 획득합니다."
   ]
  },
  {
   "cell_type": "code",
   "execution_count": 1,
   "metadata": {},
   "outputs": [
    {
     "data": {
      "text/html": [
       "<div>\n",
       "<style scoped>\n",
       "    .dataframe tbody tr th:only-of-type {\n",
       "        vertical-align: middle;\n",
       "    }\n",
       "\n",
       "    .dataframe tbody tr th {\n",
       "        vertical-align: top;\n",
       "    }\n",
       "\n",
       "    .dataframe thead th {\n",
       "        text-align: right;\n",
       "    }\n",
       "</style>\n",
       "<table border=\"1\" class=\"dataframe\">\n",
       "  <thead>\n",
       "    <tr style=\"text-align: right;\">\n",
       "      <th></th>\n",
       "      <th>gameweek</th>\n",
       "      <th>datetime</th>\n",
       "      <th>venue</th>\n",
       "      <th>team1_id</th>\n",
       "      <th>team1_name</th>\n",
       "      <th>team1_goals</th>\n",
       "      <th>team2_id</th>\n",
       "      <th>team2_name</th>\n",
       "      <th>team2_goals</th>\n",
       "      <th>duration</th>\n",
       "    </tr>\n",
       "    <tr>\n",
       "      <th>match_id</th>\n",
       "      <th></th>\n",
       "      <th></th>\n",
       "      <th></th>\n",
       "      <th></th>\n",
       "      <th></th>\n",
       "      <th></th>\n",
       "      <th></th>\n",
       "      <th></th>\n",
       "      <th></th>\n",
       "      <th></th>\n",
       "    </tr>\n",
       "  </thead>\n",
       "  <tbody>\n",
       "    <tr>\n",
       "      <th>2057954</th>\n",
       "      <td>1</td>\n",
       "      <td>2018-06-14 15:00:00</td>\n",
       "      <td>Olimpiyskiy stadion Luzhniki</td>\n",
       "      <td>14358</td>\n",
       "      <td>Russia</td>\n",
       "      <td>5</td>\n",
       "      <td>16521</td>\n",
       "      <td>Saudi Arabia</td>\n",
       "      <td>0</td>\n",
       "      <td>Regular</td>\n",
       "    </tr>\n",
       "    <tr>\n",
       "      <th>2057955</th>\n",
       "      <td>1</td>\n",
       "      <td>2018-06-15 12:00:00</td>\n",
       "      <td>Stadion Central'nyj</td>\n",
       "      <td>16129</td>\n",
       "      <td>Egypt</td>\n",
       "      <td>0</td>\n",
       "      <td>15670</td>\n",
       "      <td>Uruguay</td>\n",
       "      <td>1</td>\n",
       "      <td>Regular</td>\n",
       "    </tr>\n",
       "    <tr>\n",
       "      <th>2057961</th>\n",
       "      <td>1</td>\n",
       "      <td>2018-06-15 15:00:00</td>\n",
       "      <td>Stadion Krestovskyi</td>\n",
       "      <td>16216</td>\n",
       "      <td>Morocco</td>\n",
       "      <td>0</td>\n",
       "      <td>10840</td>\n",
       "      <td>Iran</td>\n",
       "      <td>1</td>\n",
       "      <td>Regular</td>\n",
       "    </tr>\n",
       "    <tr>\n",
       "      <th>2057960</th>\n",
       "      <td>1</td>\n",
       "      <td>2018-06-15 18:00:00</td>\n",
       "      <td>Olimpiyskiy Stadion Fisht</td>\n",
       "      <td>9905</td>\n",
       "      <td>Portugal</td>\n",
       "      <td>3</td>\n",
       "      <td>1598</td>\n",
       "      <td>Spain</td>\n",
       "      <td>3</td>\n",
       "      <td>Regular</td>\n",
       "    </tr>\n",
       "    <tr>\n",
       "      <th>2057966</th>\n",
       "      <td>1</td>\n",
       "      <td>2018-06-16 10:00:00</td>\n",
       "      <td>Kazan' Arena</td>\n",
       "      <td>4418</td>\n",
       "      <td>France</td>\n",
       "      <td>2</td>\n",
       "      <td>8493</td>\n",
       "      <td>Australia</td>\n",
       "      <td>1</td>\n",
       "      <td>Regular</td>\n",
       "    </tr>\n",
       "    <tr>\n",
       "      <th>...</th>\n",
       "      <td>...</td>\n",
       "      <td>...</td>\n",
       "      <td>...</td>\n",
       "      <td>...</td>\n",
       "      <td>...</td>\n",
       "      <td>...</td>\n",
       "      <td>...</td>\n",
       "      <td>...</td>\n",
       "      <td>...</td>\n",
       "      <td>...</td>\n",
       "    </tr>\n",
       "    <tr>\n",
       "      <th>2058012</th>\n",
       "      <td>0</td>\n",
       "      <td>2018-07-07 18:00:00</td>\n",
       "      <td>Olimpiyskiy Stadion Fisht</td>\n",
       "      <td>14358</td>\n",
       "      <td>Russia</td>\n",
       "      <td>2</td>\n",
       "      <td>9598</td>\n",
       "      <td>Croatia</td>\n",
       "      <td>2</td>\n",
       "      <td>Penalties</td>\n",
       "    </tr>\n",
       "    <tr>\n",
       "      <th>2058014</th>\n",
       "      <td>0</td>\n",
       "      <td>2018-07-10 18:00:00</td>\n",
       "      <td>Stadion Krestovskyi</td>\n",
       "      <td>4418</td>\n",
       "      <td>France</td>\n",
       "      <td>1</td>\n",
       "      <td>5629</td>\n",
       "      <td>Belgium</td>\n",
       "      <td>0</td>\n",
       "      <td>Regular</td>\n",
       "    </tr>\n",
       "    <tr>\n",
       "      <th>2058015</th>\n",
       "      <td>0</td>\n",
       "      <td>2018-07-11 18:00:00</td>\n",
       "      <td>Olimpiyskiy stadion Luzhniki</td>\n",
       "      <td>9598</td>\n",
       "      <td>Croatia</td>\n",
       "      <td>2</td>\n",
       "      <td>2413</td>\n",
       "      <td>England</td>\n",
       "      <td>1</td>\n",
       "      <td>ExtraTime</td>\n",
       "    </tr>\n",
       "    <tr>\n",
       "      <th>2058016</th>\n",
       "      <td>0</td>\n",
       "      <td>2018-07-14 14:00:00</td>\n",
       "      <td>Stadion Krestovskyi</td>\n",
       "      <td>5629</td>\n",
       "      <td>Belgium</td>\n",
       "      <td>2</td>\n",
       "      <td>2413</td>\n",
       "      <td>England</td>\n",
       "      <td>0</td>\n",
       "      <td>Regular</td>\n",
       "    </tr>\n",
       "    <tr>\n",
       "      <th>2058017</th>\n",
       "      <td>0</td>\n",
       "      <td>2018-07-15 15:00:00</td>\n",
       "      <td>Olimpiyskiy stadion Luzhniki</td>\n",
       "      <td>4418</td>\n",
       "      <td>France</td>\n",
       "      <td>4</td>\n",
       "      <td>9598</td>\n",
       "      <td>Croatia</td>\n",
       "      <td>2</td>\n",
       "      <td>Regular</td>\n",
       "    </tr>\n",
       "  </tbody>\n",
       "</table>\n",
       "<p>64 rows × 10 columns</p>\n",
       "</div>"
      ],
      "text/plain": [
       "          gameweek             datetime                         venue  \\\n",
       "match_id                                                                \n",
       "2057954          1  2018-06-14 15:00:00  Olimpiyskiy stadion Luzhniki   \n",
       "2057955          1  2018-06-15 12:00:00           Stadion Central'nyj   \n",
       "2057961          1  2018-06-15 15:00:00           Stadion Krestovskyi   \n",
       "2057960          1  2018-06-15 18:00:00     Olimpiyskiy Stadion Fisht   \n",
       "2057966          1  2018-06-16 10:00:00                  Kazan' Arena   \n",
       "...            ...                  ...                           ...   \n",
       "2058012          0  2018-07-07 18:00:00     Olimpiyskiy Stadion Fisht   \n",
       "2058014          0  2018-07-10 18:00:00           Stadion Krestovskyi   \n",
       "2058015          0  2018-07-11 18:00:00  Olimpiyskiy stadion Luzhniki   \n",
       "2058016          0  2018-07-14 14:00:00           Stadion Krestovskyi   \n",
       "2058017          0  2018-07-15 15:00:00  Olimpiyskiy stadion Luzhniki   \n",
       "\n",
       "          team1_id team1_name  team1_goals  team2_id    team2_name  \\\n",
       "match_id                                                             \n",
       "2057954      14358     Russia            5     16521  Saudi Arabia   \n",
       "2057955      16129      Egypt            0     15670       Uruguay   \n",
       "2057961      16216    Morocco            0     10840          Iran   \n",
       "2057960       9905   Portugal            3      1598         Spain   \n",
       "2057966       4418     France            2      8493     Australia   \n",
       "...            ...        ...          ...       ...           ...   \n",
       "2058012      14358     Russia            2      9598       Croatia   \n",
       "2058014       4418     France            1      5629       Belgium   \n",
       "2058015       9598    Croatia            2      2413       England   \n",
       "2058016       5629    Belgium            2      2413       England   \n",
       "2058017       4418     France            4      9598       Croatia   \n",
       "\n",
       "          team2_goals   duration  \n",
       "match_id                          \n",
       "2057954             0    Regular  \n",
       "2057955             1    Regular  \n",
       "2057961             1    Regular  \n",
       "2057960             3    Regular  \n",
       "2057966             1    Regular  \n",
       "...               ...        ...  \n",
       "2058012             2  Penalties  \n",
       "2058014             0    Regular  \n",
       "2058015             1  ExtraTime  \n",
       "2058016             0    Regular  \n",
       "2058017             2    Regular  \n",
       "\n",
       "[64 rows x 10 columns]"
      ]
     },
     "execution_count": 1,
     "metadata": {},
     "output_type": "execute_result"
    }
   ],
   "source": [
    "import pandas as pd\n",
    "dataset_name = 'World_Cup'\n",
    "#원하는 대회의 이름을 dataset_name으로 변경하면 정보 확인이 가능합니다.\n",
    "#ex) England, European_Championship, France, Germany, Italy, Spain, World_Cup\n",
    "match_df = pd.read_csv(f'data/refined_events/{dataset_name}/matches.csv', index_col=0, encoding='utf-8-sig')\n",
    "match_df\n"
   ]
  },
  {
   "cell_type": "markdown",
   "metadata": {},
   "source": [
    "<br>\n",
    "\n",
    "#### 월드컵에 참가한 팀 중 한국을 분석하고 싶다면\n",
    "#### 한국팀이 뛴 경기만을 불러와 match_id를 획득한다."
   ]
  },
  {
   "cell_type": "code",
   "execution_count": 2,
   "metadata": {},
   "outputs": [
    {
     "data": {
      "text/html": [
       "<div>\n",
       "<style scoped>\n",
       "    .dataframe tbody tr th:only-of-type {\n",
       "        vertical-align: middle;\n",
       "    }\n",
       "\n",
       "    .dataframe tbody tr th {\n",
       "        vertical-align: top;\n",
       "    }\n",
       "\n",
       "    .dataframe thead th {\n",
       "        text-align: right;\n",
       "    }\n",
       "</style>\n",
       "<table border=\"1\" class=\"dataframe\">\n",
       "  <thead>\n",
       "    <tr style=\"text-align: right;\">\n",
       "      <th></th>\n",
       "      <th>gameweek</th>\n",
       "      <th>datetime</th>\n",
       "      <th>venue</th>\n",
       "      <th>team1_id</th>\n",
       "      <th>team1_name</th>\n",
       "      <th>team1_goals</th>\n",
       "      <th>team2_id</th>\n",
       "      <th>team2_name</th>\n",
       "      <th>team2_goals</th>\n",
       "      <th>duration</th>\n",
       "    </tr>\n",
       "    <tr>\n",
       "      <th>match_id</th>\n",
       "      <th></th>\n",
       "      <th></th>\n",
       "      <th></th>\n",
       "      <th></th>\n",
       "      <th></th>\n",
       "      <th></th>\n",
       "      <th></th>\n",
       "      <th></th>\n",
       "      <th></th>\n",
       "      <th></th>\n",
       "    </tr>\n",
       "  </thead>\n",
       "  <tbody>\n",
       "    <tr>\n",
       "      <th>2057985</th>\n",
       "      <td>1</td>\n",
       "      <td>2018-06-18 12:00:00</td>\n",
       "      <td>Stadion Nizhny Novgorod</td>\n",
       "      <td>7047</td>\n",
       "      <td>Sweden</td>\n",
       "      <td>1</td>\n",
       "      <td>14855</td>\n",
       "      <td>Korea Republic</td>\n",
       "      <td>0</td>\n",
       "      <td>Regular</td>\n",
       "    </tr>\n",
       "    <tr>\n",
       "      <th>2057987</th>\n",
       "      <td>2</td>\n",
       "      <td>2018-06-23 15:00:00</td>\n",
       "      <td>Rostov Arena</td>\n",
       "      <td>14855</td>\n",
       "      <td>Korea Republic</td>\n",
       "      <td>1</td>\n",
       "      <td>15473</td>\n",
       "      <td>Mexico</td>\n",
       "      <td>2</td>\n",
       "      <td>Regular</td>\n",
       "    </tr>\n",
       "    <tr>\n",
       "      <th>2057988</th>\n",
       "      <td>3</td>\n",
       "      <td>2018-06-27 14:00:00</td>\n",
       "      <td>Kazan' Arena</td>\n",
       "      <td>14855</td>\n",
       "      <td>Korea Republic</td>\n",
       "      <td>2</td>\n",
       "      <td>3148</td>\n",
       "      <td>Germany</td>\n",
       "      <td>0</td>\n",
       "      <td>Regular</td>\n",
       "    </tr>\n",
       "  </tbody>\n",
       "</table>\n",
       "</div>"
      ],
      "text/plain": [
       "          gameweek             datetime                    venue  team1_id  \\\n",
       "match_id                                                                     \n",
       "2057985          1  2018-06-18 12:00:00  Stadion Nizhny Novgorod      7047   \n",
       "2057987          2  2018-06-23 15:00:00             Rostov Arena     14855   \n",
       "2057988          3  2018-06-27 14:00:00             Kazan' Arena     14855   \n",
       "\n",
       "              team1_name  team1_goals  team2_id      team2_name  team2_goals  \\\n",
       "match_id                                                                       \n",
       "2057985           Sweden            1     14855  Korea Republic            0   \n",
       "2057987   Korea Republic            1     15473          Mexico            2   \n",
       "2057988   Korea Republic            2      3148         Germany            0   \n",
       "\n",
       "         duration  \n",
       "match_id           \n",
       "2057985   Regular  \n",
       "2057987   Regular  \n",
       "2057988   Regular  "
      ]
     },
     "execution_count": 2,
     "metadata": {},
     "output_type": "execute_result"
    }
   ],
   "source": [
    "myteam = 'Korea Republic'\n",
    "match_df[(match_df['team1_name'] == myteam) | (match_df['team2_name'] == myteam)]"
   ]
  },
  {
   "cell_type": "markdown",
   "metadata": {},
   "source": [
    "<br>\n",
    "<br>\n",
    "\n",
    "#### 3. 패스, 슈팅의 시각화\n",
    "#### 원하는 시간대에서 일어난 패스, 슈팅 내용을 시각화하여 볼 수 있습니다.\n",
    "* <span style=\"color:skyblue\">**\"3 패스, 슈팅 시각화.ipynb\"**</span> 파일을 통해 원하는 경기 시간대의 패스, 슈팅 내용을 확인해보세요.\n",
    "    * match_id, 분석을 희망하는 시작 ~ 종료 시간,리그 이름을 넣어주셔야 합니다.\n",
    "\n",
    "    <br>\n",
    "\n",
    "* match_id 2057988 대한민국 vs 독일의 경기 0~1분 사이에 발생한 패스에 대한 시각화입니다.\n",
    "\n"
   ]
  },
  {
   "cell_type": "code",
   "execution_count": 3,
   "metadata": {},
   "outputs": [
    {
     "data": {
      "image/png": "[encoded data removed]",
      "text/plain": [
       "<Figure size 1040x680 with 1 Axes>"
      ]
     },
     "metadata": {},
     "output_type": "display_data"
    }
   ],
   "source": [
    "#위, 아래, 중간 코드는 생략 되었습니다. ( 결과물 출력 후 ipynb에서 삭제처리)\n",
    "# 3 패스 시각화.ipynb에서 실행 해주세요.\n",
    "\n",
    "match_id = 2057988 #원하는 경기의 match_id로 변경해보세요.\n",
    "dataset_name = 'World_Cup'\n",
    "\n",
    "start_time = 0  # 원하는 시작 시간을 입력하세요.(분)\n",
    "end_time = 1  # 원하는 종료 시간을 입력하세요.(분)\n",
    "\n",
    "draw_pitch('white', 'black')\n",
    "#경기장을 그려주는 코드 (인자1 = 배경색, 인자2 = 라인색)\n",
    "\n",
    "plt.legend(fontsize=20, bbox_to_anchor=(1, 1))\n",
    "#plt.savefig('img/pass_arrow.png', bbox_inches='tight')\n",
    "plt.show()"
   ]
  },
  {
   "cell_type": "markdown",
   "metadata": {},
   "source": [
    "<br>\n",
    "<br>\n",
    "\n",
    "#### 4. 공격 이벤트 시퀀스 시각화\n",
    "#### 어떤 방법으로 공격을 진행했는지 한눈에 볼 수 있습니다.\n",
    "* <span style=\"color:skyblue\">**\"4 공격 이벤트 스퀀스 시각화.ipynb\"**</span> 파일을 통해 원하는 경기 공격 진행 내용을 확인해보세요.\n",
    "    * 분석을 희망하는 match_id, 리그 이름을 넣어주셔야 합니다. (\"2 분석 희망 데이터 찾기.ipynb\" 참고)\n",
    "    * 원하는 공격 스퀀스_ㅇ를 찾아서 입력해주셔야 합니다.\n",
    "\n",
    "* 공격 스퀀스란?: 공을 스틸 당하거나, 패스 미스, 전/후반 종료, 라인 아웃 등의 상황이 일어나지 않고 지속적으로 공격권이 유지되는 시간을 하나의 스퀀스로 봅니다.\n",
    "* 아래 예시 코드와 출력물은 World_Cup의 match_id = 2058017 프랑스 vs 크로아티아 경기의 132 seq_id의 공격 경로 입니다."
   ]
  },
  {
   "cell_type": "code",
   "execution_count": 11,
   "metadata": {},
   "outputs": [
    {
     "data": {
      "image/png": "[encoded data removed]",
      "text/plain": [
       "<Figure size 1040x680 with 1 Axes>"
      ]
     },
     "metadata": {},
     "output_type": "display_data"
    },
    {
     "data": {
      "text/html": [
       "<div>\n",
       "<style scoped>\n",
       "    .dataframe tbody tr th:only-of-type {\n",
       "        vertical-align: middle;\n",
       "    }\n",
       "\n",
       "    .dataframe tbody tr th {\n",
       "        vertical-align: top;\n",
       "    }\n",
       "\n",
       "    .dataframe thead th {\n",
       "        text-align: right;\n",
       "    }\n",
       "</style>\n",
       "<table border=\"1\" class=\"dataframe\">\n",
       "  <thead>\n",
       "    <tr style=\"text-align: right;\">\n",
       "      <th></th>\n",
       "      <th>display_time</th>\n",
       "      <th>team_name</th>\n",
       "      <th>player_name</th>\n",
       "      <th>event_type</th>\n",
       "      <th>sub_event_type</th>\n",
       "      <th>tags</th>\n",
       "    </tr>\n",
       "  </thead>\n",
       "  <tbody>\n",
       "    <tr>\n",
       "      <th>1010</th>\n",
       "      <td>2H 19:08</td>\n",
       "      <td>France</td>\n",
       "      <td>B. Matuidi</td>\n",
       "      <td>Pass</td>\n",
       "      <td>Simple pass</td>\n",
       "      <td>[Accurate]</td>\n",
       "    </tr>\n",
       "    <tr>\n",
       "      <th>1011</th>\n",
       "      <td>2H 19:10</td>\n",
       "      <td>France</td>\n",
       "      <td>A. Griezmann</td>\n",
       "      <td>Duel</td>\n",
       "      <td>Ground attacking duel</td>\n",
       "      <td>[Neutral, Accurate]</td>\n",
       "    </tr>\n",
       "    <tr>\n",
       "      <th>1012</th>\n",
       "      <td>2H 19:10</td>\n",
       "      <td>Croatia</td>\n",
       "      <td>M. Brozović</td>\n",
       "      <td>Duel</td>\n",
       "      <td>Ground defending duel</td>\n",
       "      <td>[Neutral, Accurate]</td>\n",
       "    </tr>\n",
       "    <tr>\n",
       "      <th>1013</th>\n",
       "      <td>2H 19:12</td>\n",
       "      <td>France</td>\n",
       "      <td>A. Griezmann</td>\n",
       "      <td>Pass</td>\n",
       "      <td>Simple pass</td>\n",
       "      <td>[Accurate]</td>\n",
       "    </tr>\n",
       "    <tr>\n",
       "      <th>1014</th>\n",
       "      <td>2H 19:14</td>\n",
       "      <td>France</td>\n",
       "      <td>S. N'Zonzi</td>\n",
       "      <td>Pass</td>\n",
       "      <td>Simple pass</td>\n",
       "      <td>[Accurate]</td>\n",
       "    </tr>\n",
       "    <tr>\n",
       "      <th>1015</th>\n",
       "      <td>2H 19:16</td>\n",
       "      <td>France</td>\n",
       "      <td>P. Pogba</td>\n",
       "      <td>Pass</td>\n",
       "      <td>Simple pass</td>\n",
       "      <td>[Accurate]</td>\n",
       "    </tr>\n",
       "    <tr>\n",
       "      <th>1016</th>\n",
       "      <td>2H 19:20</td>\n",
       "      <td>France</td>\n",
       "      <td>L. Hernández</td>\n",
       "      <td>Pass</td>\n",
       "      <td>Simple pass</td>\n",
       "      <td>[Accurate]</td>\n",
       "    </tr>\n",
       "    <tr>\n",
       "      <th>1017</th>\n",
       "      <td>2H 19:21</td>\n",
       "      <td>France</td>\n",
       "      <td>B. Matuidi</td>\n",
       "      <td>Pass</td>\n",
       "      <td>Simple pass</td>\n",
       "      <td>[Accurate]</td>\n",
       "    </tr>\n",
       "    <tr>\n",
       "      <th>1018</th>\n",
       "      <td>2H 19:24</td>\n",
       "      <td>France</td>\n",
       "      <td>P. Pogba</td>\n",
       "      <td>Pass</td>\n",
       "      <td>Simple pass</td>\n",
       "      <td>[Accurate]</td>\n",
       "    </tr>\n",
       "    <tr>\n",
       "      <th>1019</th>\n",
       "      <td>2H 19:25</td>\n",
       "      <td>France</td>\n",
       "      <td>S. N'Zonzi</td>\n",
       "      <td>Pass</td>\n",
       "      <td>Simple pass</td>\n",
       "      <td>[Accurate]</td>\n",
       "    </tr>\n",
       "    <tr>\n",
       "      <th>1020</th>\n",
       "      <td>2H 19:26</td>\n",
       "      <td>France</td>\n",
       "      <td>P. Pogba</td>\n",
       "      <td>Pass</td>\n",
       "      <td>Simple pass</td>\n",
       "      <td>[Accurate]</td>\n",
       "    </tr>\n",
       "    <tr>\n",
       "      <th>1021</th>\n",
       "      <td>2H 19:28</td>\n",
       "      <td>France</td>\n",
       "      <td>L. Hernández</td>\n",
       "      <td>Duel</td>\n",
       "      <td>Ground attacking duel</td>\n",
       "      <td>[Take on left, Won, Accurate]</td>\n",
       "    </tr>\n",
       "    <tr>\n",
       "      <th>1022</th>\n",
       "      <td>2H 19:28</td>\n",
       "      <td>Croatia</td>\n",
       "      <td>M. Mandžukić</td>\n",
       "      <td>Duel</td>\n",
       "      <td>Ground defending duel</td>\n",
       "      <td>[Take on right, Sliding tackle, Lost, Not accu...</td>\n",
       "    </tr>\n",
       "    <tr>\n",
       "      <th>1023</th>\n",
       "      <td>2H 19:30</td>\n",
       "      <td>France</td>\n",
       "      <td>L. Hernández</td>\n",
       "      <td>Others on the ball</td>\n",
       "      <td>Acceleration</td>\n",
       "      <td>[Accurate]</td>\n",
       "    </tr>\n",
       "    <tr>\n",
       "      <th>1024</th>\n",
       "      <td>2H 19:34</td>\n",
       "      <td>France</td>\n",
       "      <td>L. Hernández</td>\n",
       "      <td>Pass</td>\n",
       "      <td>Simple pass</td>\n",
       "      <td>[Accurate]</td>\n",
       "    </tr>\n",
       "    <tr>\n",
       "      <th>1025</th>\n",
       "      <td>2H 19:37</td>\n",
       "      <td>France</td>\n",
       "      <td>K. Mbappé</td>\n",
       "      <td>Shot</td>\n",
       "      <td>Shot</td>\n",
       "      <td>[Goal, Right foot, Opportunity, Position: Goal...</td>\n",
       "    </tr>\n",
       "  </tbody>\n",
       "</table>\n",
       "</div>"
      ],
      "text/plain": [
       "     display_time team_name   player_name          event_type  \\\n",
       "1010     2H 19:08    France    B. Matuidi                Pass   \n",
       "1011     2H 19:10    France  A. Griezmann                Duel   \n",
       "1012     2H 19:10   Croatia   M. Brozović                Duel   \n",
       "1013     2H 19:12    France  A. Griezmann                Pass   \n",
       "1014     2H 19:14    France    S. N'Zonzi                Pass   \n",
       "1015     2H 19:16    France      P. Pogba                Pass   \n",
       "1016     2H 19:20    France  L. Hernández                Pass   \n",
       "1017     2H 19:21    France    B. Matuidi                Pass   \n",
       "1018     2H 19:24    France      P. Pogba                Pass   \n",
       "1019     2H 19:25    France    S. N'Zonzi                Pass   \n",
       "1020     2H 19:26    France      P. Pogba                Pass   \n",
       "1021     2H 19:28    France  L. Hernández                Duel   \n",
       "1022     2H 19:28   Croatia  M. Mandžukić                Duel   \n",
       "1023     2H 19:30    France  L. Hernández  Others on the ball   \n",
       "1024     2H 19:34    France  L. Hernández                Pass   \n",
       "1025     2H 19:37    France     K. Mbappé                Shot   \n",
       "\n",
       "             sub_event_type                                               tags  \n",
       "1010            Simple pass                                         [Accurate]  \n",
       "1011  Ground attacking duel                                [Neutral, Accurate]  \n",
       "1012  Ground defending duel                                [Neutral, Accurate]  \n",
       "1013            Simple pass                                         [Accurate]  \n",
       "1014            Simple pass                                         [Accurate]  \n",
       "1015            Simple pass                                         [Accurate]  \n",
       "1016            Simple pass                                         [Accurate]  \n",
       "1017            Simple pass                                         [Accurate]  \n",
       "1018            Simple pass                                         [Accurate]  \n",
       "1019            Simple pass                                         [Accurate]  \n",
       "1020            Simple pass                                         [Accurate]  \n",
       "1021  Ground attacking duel                      [Take on left, Won, Accurate]  \n",
       "1022  Ground defending duel  [Take on right, Sliding tackle, Lost, Not accu...  \n",
       "1023           Acceleration                                         [Accurate]  \n",
       "1024            Simple pass                                         [Accurate]  \n",
       "1025                   Shot  [Goal, Right foot, Opportunity, Position: Goal...  "
      ]
     },
     "execution_count": 11,
     "metadata": {},
     "output_type": "execute_result"
    }
   ],
   "source": [
    "#위에 코드는 생략 되었습니다. ( 결과물 출력 후 ipynb에서 삭제처리)\n",
    "# 4 공격 이벤트 스퀀스 시각화.ipynb에서 실행 해주세요.\n",
    "seq_id = 132\n",
    "first_idx = seq_records.at[seq_id, 'first_idx']\n",
    "last_idx = seq_records.at[seq_id, 'last_idx']\n",
    "visualize_sequence(match_events, first_idx, last_idx)"
   ]
  },
  {
   "cell_type": "markdown",
   "metadata": {},
   "source": [
    "<br>\n",
    "<br>\n",
    "\n",
    "#### 5. 경기별 슈팅 차트와 xG 시각화\n",
    "#### 분석 팀의 슈팅이 얼마나 위협적인 슈팅인지 머신러닝을 통해 확인해보세요.\n",
    "* <span style=\"color:skyblue\">**\"5 슈팅 xG 시각화.ipynb\"**</span> 파일을 통해 원하는 경기의 슈팅 차트와 xG를 확인해보세요.\n",
    "    * 분석을 희망하는 match_id를 넣어주세요 (\"2 분석 희망 데이터 찾기.ipynb\" 참고)\n",
    "    * xG는 슈팅별 골로 이어질 수 있는 확률에 대한 기대 값입니다.\n",
    "    * Logistic Regression 모델로 로지스틱 회귀 분석을 수행하였습니다.\n",
    "        * scr폴더의 xgml.py는 class101_파이형인간의 코드를 활용 제작하였습니다.\n",
    "\n",
    "<br>\n",
    "\n",
    "* git의 용량 문제로 기본 data는 월드컵 데이터만 포함됩니다.\n",
    "    * 따라서 7개 대회 데이터 학습과 비교했을 때 성능이 떨어질 수 있습니다.\n",
    "    * <span style=\"color:skyblue\">\"1 데이터 준비.ipynb\"</span>를 통해 7개 대회 데이터를 사용하세요.\n",
    "    \n",
    "<br>\n",
    "\n",
    "* 아래 예시 코드와 출력물은 World_Cup의 match_id = 2057987 대한민국 vs 멕시코 경기의 슈팅차트입니다."
   ]
  },
  {
   "cell_type": "code",
   "execution_count": 2,
   "metadata": {},
   "outputs": [
    {
     "data": {
      "application/vnd.plotly.v1+json": {
       "config": {
        "plotlyServerURL": "https://plot.ly"
       },
       "data": [
        {
         "marker": {
          "color": "darkgrey",
          "size": [
           11.245677880700983,
           11.545552526483794,
           11.564075946178367,
           11.535790944714819,
           13.871612641602624,
           14.466398564599245,
           24.59016877829478,
           6.904313865196531,
           9.808949769580423,
           10.958856070824446,
           11.649584455049176,
           9.685775348517419,
           11.355219963314664,
           13.245775254806382,
           9.072639386207918,
           8.764872589899065,
           11.571566154073217,
           12.627122283726122,
           11.730466421735878,
           16.664146681712204,
           10.48210665076242,
           12.340220535275732,
           10.710896760386076,
           10.847330474990352,
           11.143934559116753,
           11.686355969782557
          ],
          "symbol": [
           "circle",
           "circle",
           "circle",
           "circle",
           "circle",
           "circle",
           "square",
           "circle",
           "circle",
           "circle",
           "circle",
           "circle",
           "circle",
           "circle",
           "circle",
           "circle",
           "circle",
           "circle",
           "circle",
           "circle",
           "circle",
           "circle",
           "circle",
           "circle",
           "circle",
           "circle"
          ]
         },
         "mode": "markers",
         "name": "Failed shot",
         "text": [
          "J. Hernández, 1H 11:38, xG: 0.051",
          "Son Heung-Min, 1H 21:15, xG: 0.053",
          "Son Heung-Min, 1H 21:17, xG: 0.053",
          "Son Heung-Min, 1H 21:21, xG: 0.053",
          "Sung-Yeung Ki, 1H 22:19, xG: 0.077",
          "M. Layún, 1H 27:11, xG: 0.084",
          "Son Heung-Min, 1H 30:52, xG: 0.242",
          "Son Heung-Min, 1H 38:36, xG: 0.019",
          "H. Lozano, 1H 42:34, xG: 0.038",
          "Seon-Min Moon, 1H 44:21, xG: 0.048",
          "Son Heung-Min, 1H 44:24, xG: 0.054",
          "H. Lozano, 2H 05:02, xG: 0.038",
          "J. Hernández, 2H 06:05, xG: 0.052",
          "Seon-Min Moon, 2H 06:50, xG: 0.07",
          "Jae-Sung Lee, 2H 07:42, xG: 0.033",
          "Sung-Yeung Ki, 2H 10:44, xG: 0.031",
          "A. Guardado, 2H 12:42, xG: 0.054",
          "A. Guardado, 2H 12:46, xG: 0.064",
          "H. Lozano, 2H 14:52, xG: 0.055",
          "Jae-Sung Lee, 2H 16:01, xG: 0.111",
          "C. Vela, 2H 16:30, xG: 0.044",
          "Hwang Hee-Chan, 2H 24:09, xG: 0.061",
          "Sung-Yeung Ki, 2H 28:05, xG: 0.046",
          "Jae-Sung Lee, 2H 36:43, xG: 0.047",
          "Son Heung-Min, 2H 42:46, xG: 0.05",
          "H. Herrera, 2H 46:38, xG: 0.055"
         ],
         "type": "scatter",
         "x": [
          91.52000000000001,
          13.519999999999996,
          12.47999999999999,
          21.840000000000003,
          11.439999999999998,
          89.44,
          28.08,
          3.1199999999999903,
          91.52000000000001,
          22.879999999999995,
          20.799999999999997,
          81.12,
          79.04,
          12.47999999999999,
          14.560000000000002,
          17.679999999999993,
          81.12,
          87.36,
          82.16,
          13.519999999999996,
          82.16,
          20.799999999999997,
          30.159999999999997,
          28.08,
          26,
          81.12
         ],
         "y": [
          27.880000000000003,
          45.56,
          45.56,
          41.48,
          37.4,
          28.560000000000002,
          34,
          20.4,
          48.28,
          44.879999999999995,
          27.879999999999995,
          50.32,
          31.28,
          42.84,
          58.48,
          12.239999999999995,
          37.400000000000006,
          40.800000000000004,
          38.080000000000005,
          31.96,
          19.040000000000006,
          33.32,
          40.8,
          40.8,
          32.64,
          29.92
         ]
        },
        {
         "marker": {
          "color": "red",
          "size": [
           10.347123331004614
          ],
          "symbol": [
           "circle"
          ]
         },
         "mode": "markers",
         "name": "Korea Republic",
         "text": [
          "Son Heung-Min, 2H 47:09, xG: 0.043"
         ],
         "type": "scatter",
         "x": [
          23.92
         ],
         "y": [
          50.32
         ]
        },
        {
         "marker": {
          "color": "blue",
          "size": [
           36.992637892970556,
           12.605205637943746
          ],
          "symbol": [
           "square",
           "circle"
          ]
         },
         "mode": "markers",
         "name": "Mexico",
         "text": [
          "C. Vela, 1H 25:25, xG: 0.547",
          "J. Hernández, 2H 20:28, xG: 0.064"
         ],
         "type": "scatter",
         "x": [
          92.56,
          94.64
         ],
         "y": [
          32.64,
          43.52
         ]
        }
       ],
       "layout": {
        "autosize": false,
        "height": 600,
        "hovermode": "closest",
        "plot_bgcolor": "rgb(255, 255, 255)",
        "shapes": [
         {
          "line": {
           "color": "black"
          },
          "type": "circle",
          "x0": 41.6,
          "x1": 62.4,
          "xref": "x",
          "y0": 23.799999999999997,
          "y1": 44.2,
          "yref": "y"
         },
         {
          "line": {
           "color": "black"
          },
          "type": "line",
          "x0": 0,
          "x1": 20.8,
          "xref": "x",
          "y0": 11.22,
          "y1": 11.22,
          "yref": "y"
         },
         {
          "line": {
           "color": "black"
          },
          "type": "line",
          "x0": 20.8,
          "x1": 20.8,
          "xref": "x",
          "y0": 11.22,
          "y1": 56.78,
          "yref": "y"
         },
         {
          "line": {
           "color": "black"
          },
          "type": "line",
          "x0": 20.8,
          "x1": 0,
          "xref": "x",
          "y0": 56.78,
          "y1": 56.78,
          "yref": "y"
         },
         {
          "line": {
           "color": "black"
          },
          "type": "line",
          "x0": 104,
          "x1": 83.2,
          "xref": "x",
          "y0": 11.22,
          "y1": 11.22,
          "yref": "y"
         },
         {
          "line": {
           "color": "black"
          },
          "type": "line",
          "x0": 83.2,
          "x1": 83.2,
          "xref": "x",
          "y0": 11.22,
          "y1": 56.78,
          "yref": "y"
         },
         {
          "line": {
           "color": "black"
          },
          "type": "line",
          "x0": 83.2,
          "x1": 104,
          "xref": "x",
          "y0": 56.78,
          "y1": 56.78,
          "yref": "y"
         },
         {
          "line": {
           "color": "black"
          },
          "type": "line",
          "x0": 0,
          "x1": 5.72,
          "xref": "x",
          "y0": 23.799999999999997,
          "y1": 23.799999999999997,
          "yref": "y"
         },
         {
          "line": {
           "color": "black"
          },
          "type": "line",
          "x0": 5.72,
          "x1": 5.72,
          "xref": "x",
          "y0": 23.799999999999997,
          "y1": 44.2,
          "yref": "y"
         },
         {
          "line": {
           "color": "black"
          },
          "type": "line",
          "x0": 5.72,
          "x1": 0,
          "xref": "x",
          "y0": 44.2,
          "y1": 44.2,
          "yref": "y"
         },
         {
          "line": {
           "color": "black"
          },
          "type": "line",
          "x0": 104,
          "x1": 98.28,
          "xref": "x",
          "y0": 23.799999999999997,
          "y1": 23.799999999999997,
          "yref": "y"
         },
         {
          "line": {
           "color": "black"
          },
          "type": "line",
          "x0": 98.28,
          "x1": 98.28,
          "xref": "x",
          "y0": 23.799999999999997,
          "y1": 44.2,
          "yref": "y"
         },
         {
          "line": {
           "color": "black"
          },
          "type": "line",
          "x0": 98.28,
          "x1": 104,
          "xref": "x",
          "y0": 44.2,
          "y1": 44.2,
          "yref": "y"
         },
         {
          "line": {
           "color": "black"
          },
          "type": "line",
          "x0": 52,
          "x1": 52,
          "xref": "x",
          "y0": 68,
          "y1": 0,
          "yref": "y"
         },
         {
          "line": {
           "color": "black"
          },
          "type": "line",
          "x0": 0,
          "x1": 0,
          "xref": "x",
          "y0": 0,
          "y1": 68,
          "yref": "y"
         },
         {
          "line": {
           "color": "black"
          },
          "type": "line",
          "x0": 104,
          "x1": 104,
          "xref": "x",
          "y0": 0,
          "y1": 68,
          "yref": "y"
         },
         {
          "line": {
           "color": "black"
          },
          "type": "line",
          "x0": 0,
          "x1": 104,
          "xref": "x",
          "y0": 68,
          "y1": 68,
          "yref": "y"
         },
         {
          "line": {
           "color": "black"
          },
          "type": "line",
          "x0": 0,
          "x1": 104,
          "xref": "x",
          "y0": 0,
          "y1": 0,
          "yref": "y"
         }
        ],
        "template": {
         "data": {
          "bar": [
           {
            "error_x": {
             "color": "#2a3f5f"
            },
            "error_y": {
             "color": "#2a3f5f"
            },
            "marker": {
             "line": {
              "color": "#E5ECF6",
              "width": 0.5
             },
             "pattern": {
              "fillmode": "overlay",
              "size": 10,
              "solidity": 0.2
             }
            },
            "type": "bar"
           }
          ],
          "barpolar": [
           {
            "marker": {
             "line": {
              "color": "#E5ECF6",
              "width": 0.5
             },
             "pattern": {
              "fillmode": "overlay",
              "size": 10,
              "solidity": 0.2
             }
            },
            "type": "barpolar"
           }
          ],
          "carpet": [
           {
            "aaxis": {
             "endlinecolor": "#2a3f5f",
             "gridcolor": "white",
             "linecolor": "white",
             "minorgridcolor": "white",
             "startlinecolor": "#2a3f5f"
            },
            "baxis": {
             "endlinecolor": "#2a3f5f",
             "gridcolor": "white",
             "linecolor": "white",
             "minorgridcolor": "white",
             "startlinecolor": "#2a3f5f"
            },
            "type": "carpet"
           }
          ],
          "choropleth": [
           {
            "colorbar": {
             "outlinewidth": 0,
             "ticks": ""
            },
            "type": "choropleth"
           }
          ],
          "contour": [
           {
            "colorbar": {
             "outlinewidth": 0,
             "ticks": ""
            },
            "colorscale": [
             [
              0,
              "#0d0887"
             ],
             [
              0.1111111111111111,
              "#46039f"
             ],
             [
              0.2222222222222222,
              "#7201a8"
             ],
             [
              0.3333333333333333,
              "#9c179e"
             ],
             [
              0.4444444444444444,
              "#bd3786"
             ],
             [
              0.5555555555555556,
              "#d8576b"
             ],
             [
              0.6666666666666666,
              "#ed7953"
             ],
             [
              0.7777777777777778,
              "#fb9f3a"
             ],
             [
              0.8888888888888888,
              "#fdca26"
             ],
             [
              1,
              "#f0f921"
             ]
            ],
            "type": "contour"
           }
          ],
          "contourcarpet": [
           {
            "colorbar": {
             "outlinewidth": 0,
             "ticks": ""
            },
            "type": "contourcarpet"
           }
          ],
          "heatmap": [
           {
            "colorbar": {
             "outlinewidth": 0,
             "ticks": ""
            },
            "colorscale": [
             [
              0,
              "#0d0887"
             ],
             [
              0.1111111111111111,
              "#46039f"
             ],
             [
              0.2222222222222222,
              "#7201a8"
             ],
             [
              0.3333333333333333,
              "#9c179e"
             ],
             [
              0.4444444444444444,
              "#bd3786"
             ],
             [
              0.5555555555555556,
              "#d8576b"
             ],
             [
              0.6666666666666666,
              "#ed7953"
             ],
             [
              0.7777777777777778,
              "#fb9f3a"
             ],
             [
              0.8888888888888888,
              "#fdca26"
             ],
             [
              1,
              "#f0f921"
             ]
            ],
            "type": "heatmap"
           }
          ],
          "heatmapgl": [
           {
            "colorbar": {
             "outlinewidth": 0,
             "ticks": ""
            },
            "colorscale": [
             [
              0,
              "#0d0887"
             ],
             [
              0.1111111111111111,
              "#46039f"
             ],
             [
              0.2222222222222222,
              "#7201a8"
             ],
             [
              0.3333333333333333,
              "#9c179e"
             ],
             [
              0.4444444444444444,
              "#bd3786"
             ],
             [
              0.5555555555555556,
              "#d8576b"
             ],
             [
              0.6666666666666666,
              "#ed7953"
             ],
             [
              0.7777777777777778,
              "#fb9f3a"
             ],
             [
              0.8888888888888888,
              "#fdca26"
             ],
             [
              1,
              "#f0f921"
             ]
            ],
            "type": "heatmapgl"
           }
          ],
          "histogram": [
           {
            "marker": {
             "pattern": {
              "fillmode": "overlay",
              "size": 10,
              "solidity": 0.2
             }
            },
            "type": "histogram"
           }
          ],
          "histogram2d": [
           {
            "colorbar": {
             "outlinewidth": 0,
             "ticks": ""
            },
            "colorscale": [
             [
              0,
              "#0d0887"
             ],
             [
              0.1111111111111111,
              "#46039f"
             ],
             [
              0.2222222222222222,
              "#7201a8"
             ],
             [
              0.3333333333333333,
              "#9c179e"
             ],
             [
              0.4444444444444444,
              "#bd3786"
             ],
             [
              0.5555555555555556,
              "#d8576b"
             ],
             [
              0.6666666666666666,
              "#ed7953"
             ],
             [
              0.7777777777777778,
              "#fb9f3a"
             ],
             [
              0.8888888888888888,
              "#fdca26"
             ],
             [
              1,
              "#f0f921"
             ]
            ],
            "type": "histogram2d"
           }
          ],
          "histogram2dcontour": [
           {
            "colorbar": {
             "outlinewidth": 0,
             "ticks": ""
            },
            "colorscale": [
             [
              0,
              "#0d0887"
             ],
             [
              0.1111111111111111,
              "#46039f"
             ],
             [
              0.2222222222222222,
              "#7201a8"
             ],
             [
              0.3333333333333333,
              "#9c179e"
             ],
             [
              0.4444444444444444,
              "#bd3786"
             ],
             [
              0.5555555555555556,
              "#d8576b"
             ],
             [
              0.6666666666666666,
              "#ed7953"
             ],
             [
              0.7777777777777778,
              "#fb9f3a"
             ],
             [
              0.8888888888888888,
              "#fdca26"
             ],
             [
              1,
              "#f0f921"
             ]
            ],
            "type": "histogram2dcontour"
           }
          ],
          "mesh3d": [
           {
            "colorbar": {
             "outlinewidth": 0,
             "ticks": ""
            },
            "type": "mesh3d"
           }
          ],
          "parcoords": [
           {
            "line": {
             "colorbar": {
              "outlinewidth": 0,
              "ticks": ""
             }
            },
            "type": "parcoords"
           }
          ],
          "pie": [
           {
            "automargin": true,
            "type": "pie"
           }
          ],
          "scatter": [
           {
            "fillpattern": {
             "fillmode": "overlay",
             "size": 10,
             "solidity": 0.2
            },
            "type": "scatter"
           }
          ],
          "scatter3d": [
           {
            "line": {
             "colorbar": {
              "outlinewidth": 0,
              "ticks": ""
             }
            },
            "marker": {
             "colorbar": {
              "outlinewidth": 0,
              "ticks": ""
             }
            },
            "type": "scatter3d"
           }
          ],
          "scattercarpet": [
           {
            "marker": {
             "colorbar": {
              "outlinewidth": 0,
              "ticks": ""
             }
            },
            "type": "scattercarpet"
           }
          ],
          "scattergeo": [
           {
            "marker": {
             "colorbar": {
              "outlinewidth": 0,
              "ticks": ""
             }
            },
            "type": "scattergeo"
           }
          ],
          "scattergl": [
           {
            "marker": {
             "colorbar": {
              "outlinewidth": 0,
              "ticks": ""
             }
            },
            "type": "scattergl"
           }
          ],
          "scattermapbox": [
           {
            "marker": {
             "colorbar": {
              "outlinewidth": 0,
              "ticks": ""
             }
            },
            "type": "scattermapbox"
           }
          ],
          "scatterpolar": [
           {
            "marker": {
             "colorbar": {
              "outlinewidth": 0,
              "ticks": ""
             }
            },
            "type": "scatterpolar"
           }
          ],
          "scatterpolargl": [
           {
            "marker": {
             "colorbar": {
              "outlinewidth": 0,
              "ticks": ""
             }
            },
            "type": "scatterpolargl"
           }
          ],
          "scatterternary": [
           {
            "marker": {
             "colorbar": {
              "outlinewidth": 0,
              "ticks": ""
             }
            },
            "type": "scatterternary"
           }
          ],
          "surface": [
           {
            "colorbar": {
             "outlinewidth": 0,
             "ticks": ""
            },
            "colorscale": [
             [
              0,
              "#0d0887"
             ],
             [
              0.1111111111111111,
              "#46039f"
             ],
             [
              0.2222222222222222,
              "#7201a8"
             ],
             [
              0.3333333333333333,
              "#9c179e"
             ],
             [
              0.4444444444444444,
              "#bd3786"
             ],
             [
              0.5555555555555556,
              "#d8576b"
             ],
             [
              0.6666666666666666,
              "#ed7953"
             ],
             [
              0.7777777777777778,
              "#fb9f3a"
             ],
             [
              0.8888888888888888,
              "#fdca26"
             ],
             [
              1,
              "#f0f921"
             ]
            ],
            "type": "surface"
           }
          ],
          "table": [
           {
            "cells": {
             "fill": {
              "color": "#EBF0F8"
             },
             "line": {
              "color": "white"
             }
            },
            "header": {
             "fill": {
              "color": "#C8D4E3"
             },
             "line": {
              "color": "white"
             }
            },
            "type": "table"
           }
          ]
         },
         "layout": {
          "annotationdefaults": {
           "arrowcolor": "#2a3f5f",
           "arrowhead": 0,
           "arrowwidth": 1
          },
          "autotypenumbers": "strict",
          "coloraxis": {
           "colorbar": {
            "outlinewidth": 0,
            "ticks": ""
           }
          },
          "colorscale": {
           "diverging": [
            [
             0,
             "#8e0152"
            ],
            [
             0.1,
             "#c51b7d"
            ],
            [
             0.2,
             "#de77ae"
            ],
            [
             0.3,
             "#f1b6da"
            ],
            [
             0.4,
             "#fde0ef"
            ],
            [
             0.5,
             "#f7f7f7"
            ],
            [
             0.6,
             "#e6f5d0"
            ],
            [
             0.7,
             "#b8e186"
            ],
            [
             0.8,
             "#7fbc41"
            ],
            [
             0.9,
             "#4d9221"
            ],
            [
             1,
             "#276419"
            ]
           ],
           "sequential": [
            [
             0,
             "#0d0887"
            ],
            [
             0.1111111111111111,
             "#46039f"
            ],
            [
             0.2222222222222222,
             "#7201a8"
            ],
            [
             0.3333333333333333,
             "#9c179e"
            ],
            [
             0.4444444444444444,
             "#bd3786"
            ],
            [
             0.5555555555555556,
             "#d8576b"
            ],
            [
             0.6666666666666666,
             "#ed7953"
            ],
            [
             0.7777777777777778,
             "#fb9f3a"
            ],
            [
             0.8888888888888888,
             "#fdca26"
            ],
            [
             1,
             "#f0f921"
            ]
           ],
           "sequentialminus": [
            [
             0,
             "#0d0887"
            ],
            [
             0.1111111111111111,
             "#46039f"
            ],
            [
             0.2222222222222222,
             "#7201a8"
            ],
            [
             0.3333333333333333,
             "#9c179e"
            ],
            [
             0.4444444444444444,
             "#bd3786"
            ],
            [
             0.5555555555555556,
             "#d8576b"
            ],
            [
             0.6666666666666666,
             "#ed7953"
            ],
            [
             0.7777777777777778,
             "#fb9f3a"
            ],
            [
             0.8888888888888888,
             "#fdca26"
            ],
            [
             1,
             "#f0f921"
            ]
           ]
          },
          "colorway": [
           "#636efa",
           "#EF553B",
           "#00cc96",
           "#ab63fa",
           "#FFA15A",
           "#19d3f3",
           "#FF6692",
           "#B6E880",
           "#FF97FF",
           "#FECB52"
          ],
          "font": {
           "color": "#2a3f5f"
          },
          "geo": {
           "bgcolor": "white",
           "lakecolor": "white",
           "landcolor": "#E5ECF6",
           "showlakes": true,
           "showland": true,
           "subunitcolor": "white"
          },
          "hoverlabel": {
           "align": "left"
          },
          "hovermode": "closest",
          "mapbox": {
           "style": "light"
          },
          "paper_bgcolor": "white",
          "plot_bgcolor": "#E5ECF6",
          "polar": {
           "angularaxis": {
            "gridcolor": "white",
            "linecolor": "white",
            "ticks": ""
           },
           "bgcolor": "#E5ECF6",
           "radialaxis": {
            "gridcolor": "white",
            "linecolor": "white",
            "ticks": ""
           }
          },
          "scene": {
           "xaxis": {
            "backgroundcolor": "#E5ECF6",
            "gridcolor": "white",
            "gridwidth": 2,
            "linecolor": "white",
            "showbackground": true,
            "ticks": "",
            "zerolinecolor": "white"
           },
           "yaxis": {
            "backgroundcolor": "#E5ECF6",
            "gridcolor": "white",
            "gridwidth": 2,
            "linecolor": "white",
            "showbackground": true,
            "ticks": "",
            "zerolinecolor": "white"
           },
           "zaxis": {
            "backgroundcolor": "#E5ECF6",
            "gridcolor": "white",
            "gridwidth": 2,
            "linecolor": "white",
            "showbackground": true,
            "ticks": "",
            "zerolinecolor": "white"
           }
          },
          "shapedefaults": {
           "line": {
            "color": "#2a3f5f"
           }
          },
          "ternary": {
           "aaxis": {
            "gridcolor": "white",
            "linecolor": "white",
            "ticks": ""
           },
           "baxis": {
            "gridcolor": "white",
            "linecolor": "white",
            "ticks": ""
           },
           "bgcolor": "#E5ECF6",
           "caxis": {
            "gridcolor": "white",
            "linecolor": "white",
            "ticks": ""
           }
          },
          "title": {
           "x": 0.05
          },
          "xaxis": {
           "automargin": true,
           "gridcolor": "white",
           "linecolor": "white",
           "ticks": "",
           "title": {
            "standoff": 15
           },
           "zerolinecolor": "white",
           "zerolinewidth": 2
          },
          "yaxis": {
           "automargin": true,
           "gridcolor": "white",
           "linecolor": "white",
           "ticks": "",
           "title": {
            "standoff": 15
           },
           "zerolinecolor": "white",
           "zerolinewidth": 2
          }
         }
        },
        "title": {
         "text": "Korea Republic - Mexico (xG: 1.09 - 1.14)"
        },
        "width": 825,
        "xaxis": {
         "range": [
          0,
          104
         ],
         "showgrid": false,
         "showticklabels": false
        },
        "yaxis": {
         "range": [
          0,
          68
         ],
         "showgrid": false,
         "showticklabels": false
        }
       }
      }
     },
     "metadata": {},
     "output_type": "display_data"
    }
   ],
   "source": [
    "#위에 코드는 생략 되었습니다. ( 결과물 출력 후 ipynb에서 삭제처리)\n",
    "# 5 슈팅 xG 시각화.ipynb에서 실행 해주세요.\n",
    "team1_xg = team1_shots['xg'].sum().round(2)\n",
    "team2_xg = team2_shots['xg'].sum().round(2)\n",
    "title = f\"{team1_name} - {team2_name} (xG: {team1_xg} - {team2_xg})\"\n",
    "fig = go.Figure(data=[shot_trace, team1_goal_trace, team2_goal_trace], layout=get_pitch_layout(title))\n",
    "fig.show()"
   ]
  },
  {
   "cell_type": "markdown",
   "metadata": {},
   "source": [
    "\n",
    "<p float=\"center\">\n",
    "  <img src=\"img/xg.png\" width=\"50%\" />\n",
    "</p>"
   ]
  },
  {
   "cell_type": "markdown",
   "metadata": {},
   "source": [
    "#### 7개 대회 슈팅 데이터에 대한 로지스틱 회귀 모델 학습 시각화"
   ]
  },
  {
   "cell_type": "markdown",
   "metadata": {},
   "source": [
    "<p float=\"center\">\n",
    "  <img src=\"img/ml1.png\" width=\"50%\" />\n",
    "  <img src=\"img/ml2.png\" width=\"50%\" /> \n",
    "</p>"
   ]
  },
  {
   "cell_type": "markdown",
   "metadata": {},
   "source": [
    "<br>\n",
    "선수별 xG 분석 차트 업데이트 예정....\n",
    "* coming soon"
   ]
  },
  {
   "cell_type": "markdown",
   "metadata": {},
   "source": [
    "<br>\n",
    "<br>\n",
    "\n",
    "----\n",
    "\n",
    "#### 스포스 데이터 사이언스 학계 전망\n",
    "\n",
    "* 의료, 자연어, 컴퓨터 비젼에 대한 연구는 수 많은 인재들이 연구를 진행 중이지만, 스포츠 데이터 사이언스 분야에 대한 관심은 높지 않다.\n",
    "* 하지만 축구 선수들의 몸 값은 천문학적이며 축구 업계는 여전히 정량적인 방법의 분석을 사용합니다.\n",
    "* 따라서 스포츠 데이터 사이언스 분야의 잠재적 가치는 크다.\n",
    "<br>\n",
    "\n",
    "* 취미가 직업이 될 수도 있다는 생각을 하면서,\n",
    "* 우선은 취미라도 축구 데이터를 활용하여 분석을 해보면 좋을 것 같습니다.\n",
    "\n",
    "<br>\n",
    "\n",
    "#### 시각화 데이터 활용 방법\n",
    "* 공격 스퀀스 분석을 통해 팀의 공격 경향성을 분석하는 방법\n",
    "    - https://dl.acm.org/doi/pdf/10.1145/3219819.3219832 논문 참조\n",
    "* 선수의 이벤트 액션과 득점 기여도에 관한 분석 방법\n",
    "    - https://arxiv.org/pdf/1802.07127.pdf 논문참조\n",
    "\n",
    "<br>\n",
    "<br>"
   ]
  },
  {
   "cell_type": "markdown",
   "metadata": {},
   "source": [
    "----\n",
    "## Reference🙏\n",
    "* class101 파이형인간님께서 오픈해주신 코드를 기반으로 작성되었습니다.\n",
    "    1. data_utils.py\n",
    "    2. plot_utils.py"
   ]
  },
  {
   "cell_type": "markdown",
   "metadata": {},
   "source": [
    "## Developer\n",
    "* 22102167 길민규"
   ]
  }
 ],
 "metadata": {
  "kernelspec": {
   "display_name": "Python 3 (ipykernel)",
   "language": "python",
   "name": "python3"
  },
  "language_info": {
   "codemirror_mode": {
    "name": "ipython",
    "version": 3
   },
   "file_extension": ".py",
   "mimetype": "text/x-python",
   "name": "python",
   "nbconvert_exporter": "python",
   "pygments_lexer": "ipython3",
   "version": "3.11.5"
  }
 },
 "nbformat": 4,
 "nbformat_minor": 2
}
